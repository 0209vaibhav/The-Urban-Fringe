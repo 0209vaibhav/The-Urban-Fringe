{
 "cells": [
  {
   "cell_type": "code",
   "execution_count": 1,
   "metadata": {},
   "outputs": [
    {
     "name": "stdout",
     "output_type": "stream",
     "text": [
      "Feature Names:\n",
      "the_geom\n",
      "CafeType\n",
      "Shape_Leng\n"
     ]
    }
   ],
   "source": [
    "import pandas as pd\n",
    "\n",
    "# Load the new dataset\n",
    "file_path = (\"nysidewalkcafe_20250408.csv\")\n",
    "df_new = pd.read_csv(file_path)\n",
    "\n",
    "# List all feature (column) names\n",
    "feature_names = df_new.columns.tolist()\n",
    "\n",
    "# Print them\n",
    "print(\"Feature Names:\")\n",
    "for feature in feature_names:\n",
    "    print(feature)\n"
   ]
  },
  {
   "cell_type": "code",
   "execution_count": 2,
   "metadata": {},
   "outputs": [
    {
     "data": {
      "text/html": [
       "<div>\n",
       "<style scoped>\n",
       "    .dataframe tbody tr th:only-of-type {\n",
       "        vertical-align: middle;\n",
       "    }\n",
       "\n",
       "    .dataframe tbody tr th {\n",
       "        vertical-align: top;\n",
       "    }\n",
       "\n",
       "    .dataframe thead th {\n",
       "        text-align: right;\n",
       "    }\n",
       "</style>\n",
       "<table border=\"1\" class=\"dataframe\">\n",
       "  <thead>\n",
       "    <tr style=\"text-align: right;\">\n",
       "      <th></th>\n",
       "      <th>the_geom</th>\n",
       "      <th>CafeType</th>\n",
       "      <th>Shape_Leng</th>\n",
       "    </tr>\n",
       "  </thead>\n",
       "  <tbody>\n",
       "    <tr>\n",
       "      <th>0</th>\n",
       "      <td>MULTILINESTRING ((-74.10218629584185 40.560515...</td>\n",
       "      <td>All Cafes</td>\n",
       "      <td>521.517006</td>\n",
       "    </tr>\n",
       "    <tr>\n",
       "      <th>1</th>\n",
       "      <td>MULTILINESTRING ((-73.92023233516775 40.560678...</td>\n",
       "      <td>All Cafes</td>\n",
       "      <td>1865.622323</td>\n",
       "    </tr>\n",
       "    <tr>\n",
       "      <th>2</th>\n",
       "      <td>MULTILINESTRING ((-74.11231115997637 40.561628...</td>\n",
       "      <td>All Cafes</td>\n",
       "      <td>4771.835088</td>\n",
       "    </tr>\n",
       "    <tr>\n",
       "      <th>3</th>\n",
       "      <td>MULTILINESTRING ((-73.914986311731 40.56165686...</td>\n",
       "      <td>All Cafes</td>\n",
       "      <td>854.548726</td>\n",
       "    </tr>\n",
       "    <tr>\n",
       "      <th>4</th>\n",
       "      <td>MULTILINESTRING ((-73.91285895092047 40.561800...</td>\n",
       "      <td>All Cafes</td>\n",
       "      <td>1004.937613</td>\n",
       "    </tr>\n",
       "  </tbody>\n",
       "</table>\n",
       "</div>"
      ],
      "text/plain": [
       "                                            the_geom   CafeType   Shape_Leng\n",
       "0  MULTILINESTRING ((-74.10218629584185 40.560515...  All Cafes   521.517006\n",
       "1  MULTILINESTRING ((-73.92023233516775 40.560678...  All Cafes  1865.622323\n",
       "2  MULTILINESTRING ((-74.11231115997637 40.561628...  All Cafes  4771.835088\n",
       "3  MULTILINESTRING ((-73.914986311731 40.56165686...  All Cafes   854.548726\n",
       "4  MULTILINESTRING ((-73.91285895092047 40.561800...  All Cafes  1004.937613"
      ]
     },
     "execution_count": 2,
     "metadata": {},
     "output_type": "execute_result"
    }
   ],
   "source": [
    "import pandas as pd\n",
    "\n",
    "# Set pandas to display all columns and expand column width\n",
    "pd.set_option('display.max_columns', None)\n",
    "pd.set_option('display.width', 1000)\n",
    "\n",
    "# Load the CSV file\n",
    "df = pd.read_csv(\"nysidewalkcafe_20250408.csv\")\n",
    "\n",
    "# Display the top 5 rows with all columns visible\n",
    "df.head(5)\n"
   ]
  },
  {
   "cell_type": "code",
   "execution_count": 9,
   "metadata": {},
   "outputs": [
    {
     "name": "stdout",
     "output_type": "stream",
     "text": [
      "✅ GeoJSON file saved successfully: nysidewalkcafe_20250408.geojson\n"
     ]
    }
   ],
   "source": [
    "import pandas as pd\n",
    "from shapely import wkt\n",
    "from shapely.geometry import mapping\n",
    "import json\n",
    "import math\n",
    "\n",
    "# Step 1: Load CSV\n",
    "csv_path = \"nysidewalkcafe_20250408.csv\"\n",
    "df = pd.read_csv(csv_path)\n",
    "\n",
    "# Step 2: Convert WKT to shapely geometry\n",
    "df['geometry'] = df['the_geom'].apply(wkt.loads)\n",
    "\n",
    "# Step 3: Clean and build features\n",
    "features = []\n",
    "for _, row in df.iterrows():\n",
    "    try:\n",
    "        geom = mapping(row['geometry'])\n",
    "\n",
    "        # Validate geometry type\n",
    "        if not geom.get(\"coordinates\"):\n",
    "            continue\n",
    "\n",
    "        # Replace NaN or invalid values\n",
    "        props = {\n",
    "            \"CafeType\": str(row.get(\"CafeType\", \"\")).strip(),\n",
    "            \"Shape_Leng\": (\n",
    "                float(row[\"Shape_Leng\"]) if not pd.isna(row[\"Shape_Leng\"]) and not math.isnan(row[\"Shape_Leng\"]) else 0.0\n",
    "            )\n",
    "        }\n",
    "\n",
    "        feature = {\n",
    "            \"type\": \"Feature\",\n",
    "            \"geometry\": geom,\n",
    "            \"properties\": props\n",
    "        }\n",
    "\n",
    "        features.append(feature)\n",
    "\n",
    "    except Exception as e:\n",
    "        print(f\"Error on row {_}: {e}\")\n",
    "\n",
    "# Step 4: Create GeoJSON FeatureCollection\n",
    "geojson_data = {\n",
    "    \"type\": \"FeatureCollection\",\n",
    "    \"features\": features\n",
    "}\n",
    "\n",
    "# Step 5: Save with pretty-printing (multi-line formatting)\n",
    "geojson_path = \"nysidewalkcafe_20250408.geojson\"\n",
    "with open(geojson_path, \"w\", encoding=\"utf-8\") as f:\n",
    "    json.dump(geojson_data, f, indent=2, ensure_ascii=False)\n",
    "\n",
    "print(\"✅ GeoJSON file saved successfully:\", geojson_path)\n"
   ]
  }
 ],
 "metadata": {
  "kernelspec": {
   "display_name": "Python 3",
   "language": "python",
   "name": "python3"
  },
  "language_info": {
   "codemirror_mode": {
    "name": "ipython",
    "version": 3
   },
   "file_extension": ".py",
   "mimetype": "text/x-python",
   "name": "python",
   "nbconvert_exporter": "python",
   "pygments_lexer": "ipython3",
   "version": "3.12.6"
  }
 },
 "nbformat": 4,
 "nbformat_minor": 2
}
