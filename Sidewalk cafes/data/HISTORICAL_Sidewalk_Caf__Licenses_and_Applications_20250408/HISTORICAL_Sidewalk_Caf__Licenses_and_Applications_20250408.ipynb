{
 "cells": [
  {
   "cell_type": "code",
   "execution_count": 3,
   "metadata": {},
   "outputs": [
    {
     "name": "stdout",
     "output_type": "stream",
     "text": [
      "SWC.csv shape: (1116, 47)\n",
      "Historical dataset shape: (324, 47)\n"
     ]
    }
   ],
   "source": [
    "import pandas as pd\n",
    "\n",
    "# Load the datasets\n",
    "swc_df = pd.read_csv(\"SWC.csv\")\n",
    "historical_df = pd.read_csv(\"HISTORICAL_Sidewalk_Caf__Licenses_and_Applications_20250408.csv\")\n",
    "\n",
    "# Print shape of each dataset\n",
    "print(\"SWC.csv shape:\", swc_df.shape)  # (rows, columns)\n",
    "print(\"Historical dataset shape:\", historical_df.shape)\n"
   ]
  },
  {
   "cell_type": "code",
   "execution_count": 4,
   "metadata": {},
   "outputs": [
    {
     "name": "stdout",
     "output_type": "stream",
     "text": [
      "Combined dataset created with (1116, 47) unique entries.\n"
     ]
    }
   ],
   "source": [
    "import pandas as pd\n",
    "\n",
    "# Load the datasets\n",
    "swc_df = pd.read_csv(\"SWC.csv\")\n",
    "historical_df = pd.read_csv(\"HISTORICAL_Sidewalk_Caf__Licenses_and_Applications_20250408.csv\")\n",
    "\n",
    "# Combine both datasets\n",
    "combined_df = pd.concat([swc_df, historical_df], ignore_index=True)\n",
    "\n",
    "# Drop duplicate entries based on the 'APP_ID' field\n",
    "combined_df = combined_df.drop_duplicates(subset=\"APP_ID\", keep=\"first\")\n",
    "\n",
    "# Save the combined dataset to a new CSV (optional)\n",
    "combined_df.to_csv(\"Combined_Sidewalk_Cafes.csv\", index=False)\n",
    "\n",
    "print(\"Combined dataset created with\", combined_df.shape, \"unique entries.\")\n"
   ]
  },
  {
   "cell_type": "code",
   "execution_count": 1,
   "metadata": {},
   "outputs": [
    {
     "name": "stdout",
     "output_type": "stream",
     "text": [
      "GeoJSON file created: Sidewalk_Cafes.geojson\n"
     ]
    }
   ],
   "source": [
    "import pandas as pd\n",
    "import geopandas as gpd\n",
    "from shapely.geometry import Point\n",
    "\n",
    "# Load CSV\n",
    "csv_path = \"Combined_Sidewalk_Cafes.csv\"  # Update path if needed\n",
    "df = pd.read_csv(csv_path)\n",
    "\n",
    "# Drop rows with missing coordinate data\n",
    "df = df.dropna(subset=[\"FINAL_X\", \"FINAL_Y\"])\n",
    "\n",
    "# Create geometry column (assuming FINAL_X = X and FINAL_Y = Y in EPSG:2263)\n",
    "geometry = [Point(xy) for xy in zip(df[\"FINAL_X\"], df[\"FINAL_Y\"])]\n",
    "\n",
    "# Convert to GeoDataFrame with the original coordinate reference system\n",
    "gdf = gpd.GeoDataFrame(df, geometry=geometry, crs=\"EPSG:2263\")\n",
    "\n",
    "# Reproject to EPSG:4326 (lat/lon for web maps)\n",
    "gdf = gdf.to_crs(epsg=4326)\n",
    "\n",
    "# Save to GeoJSON\n",
    "output_path = \"Sidewalk_Cafes.geojson\"\n",
    "gdf.to_file(output_path, driver=\"GeoJSON\")\n",
    "\n",
    "print(\"GeoJSON file created:\", output_path)\n"
   ]
  }
 ],
 "metadata": {
  "kernelspec": {
   "display_name": "Python 3",
   "language": "python",
   "name": "python3"
  },
  "language_info": {
   "codemirror_mode": {
    "name": "ipython",
    "version": 3
   },
   "file_extension": ".py",
   "mimetype": "text/x-python",
   "name": "python",
   "nbconvert_exporter": "python",
   "pygments_lexer": "ipython3",
   "version": "3.12.6"
  }
 },
 "nbformat": 4,
 "nbformat_minor": 2
}
